{
  "nbformat": 4,
  "nbformat_minor": 0,
  "metadata": {
    "colab": {
      "provenance": [],
      "private_outputs": true,
      "mount_file_id": "16w5CWZupEwvC_rFsOGrXt16zcMHtbXeV",
      "authorship_tag": "ABX9TyPn9EuQvE0/MiXgP5kUadeX",
      "include_colab_link": true
    },
    "kernelspec": {
      "name": "python3",
      "display_name": "Python 3"
    },
    "language_info": {
      "name": "python"
    },
    "accelerator": "GPU",
    "gpuClass": "standard"
  },
  "cells": [
    {
      "cell_type": "markdown",
      "metadata": {
        "id": "view-in-github",
        "colab_type": "text"
      },
      "source": [
        "<a href=\"https://colab.research.google.com/github/saiful-kelubas-code/saiful_kelubas_DL/blob/main/BatikMotifs.ipynb\" target=\"_parent\"><img src=\"https://colab.research.google.com/assets/colab-badge.svg\" alt=\"Open In Colab\"/></a>"
      ]
    },
    {
      "cell_type": "code",
      "source": [
        "mkdir -p /content/batikmotifs"
      ],
      "metadata": {
        "id": "EVL9vJCffJd1"
      },
      "execution_count": null,
      "outputs": []
    },
    {
      "cell_type": "code",
      "source": [
        "cp /content/drive/MyDrive/deep_learning/archive.zip /content/batikmotifs"
      ],
      "metadata": {
        "id": "9XlyryuFfb6U"
      },
      "execution_count": null,
      "outputs": []
    },
    {
      "cell_type": "code",
      "source": [
        "!unzip /content/batikmotifs/archive.zip -d /content/batikmotifs"
      ],
      "metadata": {
        "id": "Z_UAaOnJkt9g"
      },
      "execution_count": null,
      "outputs": []
    },
    {
      "cell_type": "code",
      "execution_count": null,
      "metadata": {
        "id": "O6CoQBXkbyXV"
      },
      "outputs": [],
      "source": [
        "import numpy as np \n",
        "import pandas as pd\n",
        "images = []\n",
        "label = []\n",
        "import os\n",
        "for dirname, _, filenames in os.walk('/content/batikmotifs/'):\n",
        "    for filename in filenames:\n",
        "        images.append(os.path.join(dirname, filename).split('/')[-1])\n",
        "        label.append(os.path.join(dirname, filename).split('/')[-2])"
      ]
    },
    {
      "cell_type": "code",
      "source": [
        "import matplotlib.pyplot as plt\n",
        "from torchvision import transforms as T\n",
        "from PIL import Image\n",
        "from torch.utils.data import Dataset, DataLoader\n",
        "from sklearn.model_selection import train_test_split\n",
        "from tqdm.notebook import tqdm\n",
        "import time\n",
        "from torch.nn import functional as F\n",
        "from torchvision import models\n",
        "import torch.nn as nn\n",
        "import torch\n",
        "import random\n",
        "import PIL\n",
        "device = torch.device('cuda' if torch.cuda.is_available() else 'cpu')"
      ],
      "metadata": {
        "id": "dICn-L1edcwk"
      },
      "execution_count": null,
      "outputs": []
    },
    {
      "cell_type": "code",
      "source": [
        "labels = np.unique(label)\n",
        "ints = np.arange(0, len(label))\n",
        "dicts = dict(zip(labels, ints))\n",
        "dicts"
      ],
      "metadata": {
        "id": "3hcYtuoCdlZo"
      },
      "execution_count": null,
      "outputs": []
    },
    {
      "cell_type": "code",
      "source": [
        "PATH = \"/content/batikmotifs/\"\n",
        "\n",
        "df_full = pd.DataFrame({'image_id':images, 'label':label})\n",
        "\n",
        "#FINDING BAD FILE\n",
        "\n",
        "index = []\n",
        "for i in range(len(df_full)):\n",
        "    try:\n",
        "        Image.open(PATH + str(df_full['label'].values[i]) + '/' + str(df_full['image_id'].values[i]))\n",
        "    \n",
        "    except PIL.UnidentifiedImageError:\n",
        "        index.append(i)\n",
        "\n",
        "df = df_full.drop(index)\n",
        "df.head()"
      ],
      "metadata": {
        "id": "ZxdTiLuAdmZq"
      },
      "execution_count": null,
      "outputs": []
    },
    {
      "cell_type": "code",
      "source": [
        "target, count = np.unique(df['label'], return_counts=True)\n",
        "precentange = [x / np.sum(count) for x in count]\n",
        "plt.style.use('seaborn')\n",
        "plt.pie(precentange, labels = target,  autopct='%1.f%%', shadow=True)\n",
        "plt.title('DATA PERCENTAGE')\n",
        "plt.show()"
      ],
      "metadata": {
        "id": "kWWjCmgydsFy"
      },
      "execution_count": null,
      "outputs": []
    },
    {
      "cell_type": "code",
      "source": [
        "class Batik(Dataset):\n",
        "    def __init__(self, x, y, path, map_label=dicts, transform=None):\n",
        "        self.X = x\n",
        "        self.y = y\n",
        "        self.path = path\n",
        "        self.map_label = map_label\n",
        "        self.transform = transform\n",
        "        \n",
        "    def __getitem__(self, idx):\n",
        "        img = Image.open(self.path + str(self.y[idx]) + '/' + str(self.X[idx])).convert('RGB')\n",
        "        label = self.map_label[self.y[idx]]\n",
        "        \n",
        "        if self.transform is not None:\n",
        "            img = self.transform(img)\n",
        "            \n",
        "        return img, label\n",
        "\n",
        "    def __len__(self):\n",
        "        return len(self.X)\n",
        "    \n",
        "X_trainval, X_test, y_trainval, y_test = train_test_split(\n",
        "    df['image_id'].values, df['label'].values, \n",
        "    test_size=0.15, stratify=df['label'].values, \n",
        "    random_state=77)\n",
        "\n",
        "X_train, X_val, y_train, y_val = train_test_split(\n",
        "    X_trainval, y_trainval, \n",
        "    stratify=y_trainval, test_size=0.15,\n",
        "    random_state=77)\n",
        "\n",
        "\n",
        "len(X_train), len(X_val), len(X_test)"
      ],
      "metadata": {
        "id": "dm1iVbRzdxRv"
      },
      "execution_count": null,
      "outputs": []
    },
    {
      "cell_type": "code",
      "source": [
        "mean= [0.485, 0.456, 0.406] \n",
        "std= [0.229, 0.224, 0.225]\n",
        "batch_size = 24\n",
        "\n",
        "train_transform = T.Compose([T.Resize((128, 128)),\n",
        "                             T.RandomHorizontalFlip(),\n",
        "                             T.RandomVerticalFlip(),\n",
        "                             T.RandomRotation(20),\n",
        "                             T.ToTensor(),\n",
        "                             T.Normalize(mean, std)\n",
        "                            ])\n",
        "\n",
        "val_transform = T.Compose([T.Resize((128, 128)),\n",
        "                           T.ToTensor(),\n",
        "                           T.Normalize(mean, std),\n",
        "                          ])\n",
        "\n",
        "train_set = Batik(X_train, y_train, PATH, transform=train_transform)\n",
        "val_set = Batik(X_val, y_val, PATH, transform=val_transform)\n",
        "\n",
        "train_loader = DataLoader(train_set, batch_size=batch_size, shuffle=True, \n",
        "                                           num_workers=8, pin_memory=True)\n",
        "val_loader = DataLoader(val_set, batch_size=batch_size*2, shuffle=False, \n",
        "                                         num_workers=8, pin_memory=True)"
      ],
      "metadata": {
        "id": "GYnwFrQud1_R"
      },
      "execution_count": null,
      "outputs": []
    },
    {
      "cell_type": "code",
      "source": [
        "int_label = dict(zip(ints, labels))\n",
        "\n",
        "\n",
        "img, label = train_set[random.randint(0, len(X_train))]\n",
        "plt.imshow(img.permute(1,2,0));\n",
        "print(int_label[label])"
      ],
      "metadata": {
        "id": "dSx6tnHAd9Bq"
      },
      "execution_count": null,
      "outputs": []
    },
    {
      "cell_type": "code",
      "source": [
        "model = models.resnet18(pretrained=True)\n",
        "model.fc = nn.Linear(in_features=512, out_features=20, bias=True)\n",
        "model"
      ],
      "metadata": {
        "id": "PmOvI4oseA0z"
      },
      "execution_count": null,
      "outputs": []
    },
    {
      "cell_type": "code",
      "source": [
        "def accuracy(output, label):\n",
        "    with torch.no_grad():\n",
        "        output = torch.argmax(F.softmax(output, dim=1), dim=1)\n",
        "        correct = torch.eq(output, label).int()\n",
        "        accuracy = float(correct.sum()) / float(correct.numel())\n",
        "    return accuracy\n",
        "\n",
        "epoch = 20\n",
        "lr = 1e-3\n",
        "criterion = nn.CrossEntropyLoss()\n",
        "optimizer = torch.optim.Adam(model.parameters(), lr=lr, weight_decay=1e-4)\n",
        "scheduler = torch.optim.lr_scheduler.OneCycleLR(optimizer, max_lr=lr, epochs=epoch,\n",
        "                                               steps_per_epoch=len(train_loader))"
      ],
      "metadata": {
        "id": "Fj0uAeemeFD1"
      },
      "execution_count": null,
      "outputs": []
    },
    {
      "cell_type": "code",
      "source": [
        "train_losses = []\n",
        "val_losses =[]\n",
        "train_accuracy = []\n",
        "val_acc = []\n",
        "for e in range(epoch):\n",
        "    model.to(device)\n",
        "    model.train()\n",
        "    \n",
        "    train_loss = 0\n",
        "    train_acc = 0\n",
        "    since = time.time()\n",
        "    for image, label in tqdm(train_loader, total=len(train_loader)):\n",
        "        optimizer.zero_grad()\n",
        "        \n",
        "        image = image.to(device)\n",
        "        label = label.to(device)\n",
        "        output = model(image)\n",
        "        loss = criterion(output, label)\n",
        "        \n",
        "        train_loss += loss\n",
        "        train_acc += accuracy(output, label)\n",
        "        \n",
        "        loss.backward()\n",
        "        optimizer.step()\n",
        "        scheduler.step()\n",
        "        \n",
        "    else:\n",
        "        with torch.no_grad():\n",
        "            model.eval()\n",
        "            \n",
        "            running_loss = 0\n",
        "            val_accuracy =0\n",
        "            for image, label in val_loader:\n",
        "                image = image.to(device)\n",
        "                label = label.to(device)\n",
        "\n",
        "                output = model(image)\n",
        "                loss = criterion(output, label)\n",
        "                val_accuracy += accuracy(output, label)\n",
        "                running_loss += loss\n",
        "                \n",
        "    train_losses.append((train_loss/len(train_loader)).item())\n",
        "    val_losses.append((running_loss/len(val_loader)).item())\n",
        "    train_accuracy.append(train_acc/ len(train_loader))\n",
        "    val_acc.append(val_accuracy/len(val_loader))\n",
        "    \n",
        "    print('epochs {}/{}..'.format(e+1, epoch),\n",
        "          'train loss {:.3f}..'.format(train_loss/len(train_loader)),\n",
        "          'val loss {:.3f}..'.format(running_loss/len(val_loader)),\n",
        "          'train accuracy {:.3f}..'.format(train_acc/ len(train_loader)),\n",
        "          'val accuracy {:.3f}..'.format(val_accuracy/len(val_loader)),\n",
        "          'time {:.3f} s'.format(time.time() - since)\n",
        "         )"
      ],
      "metadata": {
        "id": "WLPIi7sxeKri"
      },
      "execution_count": null,
      "outputs": []
    },
    {
      "cell_type": "code",
      "source": [
        "plt.plot(train_accuracy, label='train')\n",
        "plt.title('accuracy')\n",
        "plt.ylabel('accuracy'); plt.xlabel('epoch')\n",
        "plt.plot(val_acc, label='val')\n",
        "plt.legend()\n",
        "plt.show()"
      ],
      "metadata": {
        "id": "YzMSxM-7ePs3"
      },
      "execution_count": null,
      "outputs": []
    },
    {
      "cell_type": "code",
      "source": [
        "test_set = Batik(X_test, y_test, PATH, transform=val_transform)\n",
        "\n",
        "def predict(model, img, label):\n",
        "    model.eval()\n",
        "    with torch.no_grad():\n",
        "        img = img.unsqueeze(0).to(device)\n",
        "        output = model(img)\n",
        "        pred = torch.argmax(F.softmax(output, dim=1)).cpu().item()\n",
        "    return pred\n",
        "\n",
        "test_predict = []\n",
        "true_label = []\n",
        "for i in range(len(test_set)):\n",
        "    img, label = test_set[i]\n",
        "    prediction = predict(model, img, label)\n",
        "    test_predict.append(prediction)\n",
        "    true_label.append(label)"
      ],
      "metadata": {
        "id": "qM5gUZUVeVi7"
      },
      "execution_count": null,
      "outputs": []
    },
    {
      "cell_type": "code",
      "source": [
        "import seaborn as sns\n",
        "from sklearn.metrics import confusion_matrix, classification_report\n",
        "\n",
        "plt.figure(figsize=(10,8))\n",
        "sns.heatmap(confusion_matrix(true_label, test_predict), annot=True, cmap='GnBu', cbar=False)\n",
        "plt.xticks(ticks=np.arange(0.5, len(list(dicts.keys()))), labels = list(dicts.keys()), rotation=90)\n",
        "plt.yticks(ticks=np.arange(0.5, len(list(dicts.keys()))), labels = list(dicts.keys()), rotation=0)\n",
        "plt.show()"
      ],
      "metadata": {
        "id": "Q4Ria5FLeZIc"
      },
      "execution_count": null,
      "outputs": []
    },
    {
      "cell_type": "code",
      "source": [
        "print(classification_report(true_label, test_predict))"
      ],
      "metadata": {
        "id": "5-YpV4piekxj"
      },
      "execution_count": null,
      "outputs": []
    },
    {
      "cell_type": "code",
      "source": [
        "random_selection = np.random.randint(0, len(test_predict), 15)\n",
        "\n",
        "fig = plt.figure(figsize=(20, 10))\n",
        "\n",
        "test_set = Batik (X_test, y_test, PATH, transform=T.Resize((124,124)))\n",
        "for i, idx in enumerate(random_selection):\n",
        "    image, label = test_set[idx]\n",
        "    ax = fig.add_subplot(3, 5, i+1, xticks=[], yticks = [])\n",
        "    ax.imshow(image)\n",
        "    ax.set_title('True:{}\\nPredict:{}'.format(int_label[label], int_label[test_predict[idx]]),\n",
        "                color=(\"green\" if label == test_predict[idx] else 'red'), fontsize=12)\n",
        "\n",
        "plt.tight_layout()\n",
        "plt.show()"
      ],
      "metadata": {
        "id": "FEmTJptzeoJW"
      },
      "execution_count": null,
      "outputs": []
    }
  ]
}